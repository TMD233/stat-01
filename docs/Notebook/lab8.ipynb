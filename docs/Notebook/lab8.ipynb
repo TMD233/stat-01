{
 "cells": [
  {
   "cell_type": "code",
   "execution_count": null,
   "metadata": {},
   "outputs": [],
   "source": [
    "cog_url = \"https://oin-hotosm.s3.amazonaws.com/5a97b8028a80730011386139/0/3041615b-2e89-4b06-8d0b-ede8896f71a9.tif\"\n",
    "map1 = EnhancedMap(center=(20, 0), zoom=2)\n",
    "map1.add_raster(cog_url)\n",
    "display(map1)"
   ]
  },
  {
   "cell_type": "markdown",
   "metadata": {},
   "source": [
    "# Demonstration of add_image()"
   ]
  },
  {
   "cell_type": "code",
   "execution_count": null,
   "metadata": {},
   "outputs": [],
   "source": [
    "image_url = \"https://upload.wikimedia.org/wikipedia/commons/thumb/6/60/Earth_Eastern_Hemisphere.jpg/320px-Earth_Eastern_Hemisphere.jpg\"\n",
    "bounds = [(52.5, -2.0), (54, 1.0)]  # Example bounds, adjust to your image's geographical location\n",
    "map2 = EnhancedMap(center=(53.0, -1.0), zoom=5)\n",
    "map2.add_image(image_url, bounds)\n",
    "display(map2)"
   ]
  }
 ],
 "metadata": {
  "kernelspec": {
   "display_name": "BB",
   "language": "python",
   "name": "python3"
  },
  "language_info": {
   "codemirror_mode": {
    "name": "ipython",
    "version": 3
   },
   "file_extension": ".py",
   "mimetype": "text/x-python",
   "name": "python",
   "nbconvert_exporter": "python",
   "pygments_lexer": "ipython3",
   "version": "3.11.7"
  }
 },
 "nbformat": 4,
 "nbformat_minor": 2
}
