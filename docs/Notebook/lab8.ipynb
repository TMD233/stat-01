{
 "cells": [
  {
   "cell_type": "code",
   "execution_count": null,
   "metadata": {},
   "outputs": [],
   "source": [
    "cog_url = \"https://path_to_your_cog_file.tif\"  # Replace with your COG file path or URL\n",
    "map1 = EnhancedMap(center=(20, 0), zoom=2)\n",
    "map1.add_raster(cog_url)\n",
    "display(map1)"
   ]
  },
  {
   "cell_type": "markdown",
   "metadata": {},
   "source": [
    "# Demonstration of add_image()"
   ]
  },
  {
   "cell_type": "code",
   "execution_count": null,
   "metadata": {},
   "outputs": [],
   "source": [
    "image_url = \"https://path_to_your_image_or_gif.gif\"  # Replace with your image/GIF path or URL\n",
    "bounds = [(52.5, -2.0), (54, 1.0)]  # Example bounds, adjust to your image's geographical location\n",
    "map2 = EnhancedMap(center=(53.0, -1.0), zoom=5)\n",
    "map2.add_image(image_url, bounds)\n",
    "display(map2)"
   ]
  }
 ],
 "metadata": {
  "kernelspec": {
   "display_name": "BB",
   "language": "python",
   "name": "python3"
  },
  "language_info": {
   "codemirror_mode": {
    "name": "ipython",
    "version": 3
   },
   "file_extension": ".py",
   "mimetype": "text/x-python",
   "name": "python",
   "nbconvert_exporter": "python",
   "pygments_lexer": "ipython3",
   "version": "3.11.7"
  }
 },
 "nbformat": 4,
 "nbformat_minor": 2
}
