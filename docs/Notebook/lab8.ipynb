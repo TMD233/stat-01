{
 "cells": [
  {
   "cell_type": "code",
   "execution_count": 8,
   "metadata": {},
   "outputs": [
    {
     "ename": "ModuleNotFoundError",
     "evalue": "No module named 'stat_01'",
     "output_type": "error",
     "traceback": [
      "\u001b[1;31m---------------------------------------------------------------------------\u001b[0m",
      "\u001b[1;31mModuleNotFoundError\u001b[0m                       Traceback (most recent call last)",
      "Cell \u001b[1;32mIn[8], line 4\u001b[0m\n\u001b[0;32m      2\u001b[0m \u001b[38;5;28;01mimport\u001b[39;00m \u001b[38;5;21;01mrasterio\u001b[39;00m\n\u001b[0;32m      3\u001b[0m \u001b[38;5;28;01mfrom\u001b[39;00m \u001b[38;5;21;01mipyleaflet\u001b[39;00m \u001b[38;5;28;01mimport\u001b[39;00m ImageOverlay, RasterLayer\n\u001b[1;32m----> 4\u001b[0m \u001b[38;5;28;01mfrom\u001b[39;00m \u001b[38;5;21;01mstat_01\u001b[39;00m \u001b[38;5;28;01mimport\u001b[39;00m Map\n",
      "\u001b[1;31mModuleNotFoundError\u001b[0m: No module named 'stat_01'"
     ]
    }
   ],
   "source": [
    "from ipyleaflet import LayersControl, basemaps, Map\n",
    "import rasterio\n",
    "from ipyleaflet import ImageOverlay, RasterLayer\n",
    "from stat_01 import Map"
   ]
  },
  {
   "cell_type": "code",
   "execution_count": 5,
   "metadata": {},
   "outputs": [
    {
     "ename": "AttributeError",
     "evalue": "'Map' object has no attribute 'add_raster'",
     "output_type": "error",
     "traceback": [
      "\u001b[1;31m---------------------------------------------------------------------------\u001b[0m",
      "\u001b[1;31mAttributeError\u001b[0m                            Traceback (most recent call last)",
      "Cell \u001b[1;32mIn[5], line 3\u001b[0m\n\u001b[0;32m      1\u001b[0m cog_url \u001b[38;5;241m=\u001b[39m \u001b[38;5;124m\"\u001b[39m\u001b[38;5;124mhttps://oin-hotosm.s3.amazonaws.com/5a97b8028a80730011386139/0/3041615b-2e89-4b06-8d0b-ede8896f71a9.tif\u001b[39m\u001b[38;5;124m\"\u001b[39m\n\u001b[0;32m      2\u001b[0m map1 \u001b[38;5;241m=\u001b[39m Map(center\u001b[38;5;241m=\u001b[39m(\u001b[38;5;241m20\u001b[39m, \u001b[38;5;241m0\u001b[39m), zoom\u001b[38;5;241m=\u001b[39m\u001b[38;5;241m2\u001b[39m)\n\u001b[1;32m----> 3\u001b[0m \u001b[43mmap1\u001b[49m\u001b[38;5;241;43m.\u001b[39;49m\u001b[43madd_raster\u001b[49m(cog_url)\n\u001b[0;32m      4\u001b[0m map1\u001b[38;5;241m.\u001b[39madd_control(LayersControl())\n\u001b[0;32m      5\u001b[0m display(map1)\n",
      "\u001b[1;31mAttributeError\u001b[0m: 'Map' object has no attribute 'add_raster'"
     ]
    }
   ],
   "source": [
    "cog_url = \"https://oin-hotosm.s3.amazonaws.com/5a97b8028a80730011386139/0/3041615b-2e89-4b06-8d0b-ede8896f71a9.tif\"\n",
    "map1 = Map(center=(20, 0), zoom=2)\n",
    "map1.add_raster(cog_url)\n",
    "map1.add_control(LayersControl())\n",
    "display(map1)"
   ]
  },
  {
   "cell_type": "markdown",
   "metadata": {},
   "source": [
    "# Demonstration of add_image()"
   ]
  },
  {
   "cell_type": "code",
   "execution_count": null,
   "metadata": {},
   "outputs": [],
   "source": [
    "image_url = \"https://upload.wikimedia.org/wikipedia/commons/thumb/6/60/Earth_Eastern_Hemisphere.jpg/320px-Earth_Eastern_Hemisphere.jpg\"\n",
    "bounds = [(52.5, -2.0), (54, 1.0)]  # Define the geographical bounds where the image will be placed\n",
    "map2 = Map(center=(53.0, -1.0), zoom=5)\n",
    "map2.add_image(image_url, bounds)\n",
    "map2.add_control(LayersControl())\n",
    "display(map2)"
   ]
  }
 ],
 "metadata": {
  "kernelspec": {
   "display_name": "BB",
   "language": "python",
   "name": "python3"
  },
  "language_info": {
   "codemirror_mode": {
    "name": "ipython",
    "version": 3
   },
   "file_extension": ".py",
   "mimetype": "text/x-python",
   "name": "python",
   "nbconvert_exporter": "python",
   "pygments_lexer": "ipython3",
   "version": "3.11.7"
  }
 },
 "nbformat": 4,
 "nbformat_minor": 2
}
